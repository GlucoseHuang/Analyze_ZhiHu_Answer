{
 "cells": [
  {
   "cell_type": "markdown",
   "metadata": {
    "pycharm": {
     "name": "#%% md\n"
    }
   },
   "source": [
    "## 读取数据"
   ]
  },
  {
   "cell_type": "code",
   "execution_count": 1,
   "metadata": {
    "pycharm": {
     "name": "#%%\n"
    }
   },
   "outputs": [],
   "source": [
    "with open(\"source.md\", \"r\", encoding=\"utf-8\") as fp:\n",
    "    text = fp.read()"
   ]
  },
  {
   "cell_type": "markdown",
   "metadata": {
    "pycharm": {
     "name": "#%% md\n"
    }
   },
   "source": [
    "## 匹配答案"
   ]
  },
  {
   "cell_type": "code",
   "execution_count": 2,
   "metadata": {
    "pycharm": {
     "name": "#%%\n"
    }
   },
   "outputs": [],
   "source": [
    "import re\n",
    "\n",
    "# 样式：\n",
    "# #### (1) [[眼中钉](https://www.zhihu.com/people/yan-zhong-ding-98)] [赞同: 47939]\n",
    "answerPtn = re.compile(\"#### \\([0-9]{1,5}\\) .*? \\[赞同: [0-9]{1,8}]\")\n",
    "\n",
    "answers = answerPtn.split(text)\n",
    "answers = answers[1:]"
   ]
  },
  {
   "cell_type": "markdown",
   "metadata": {},
   "source": [
    "## 数据分析"
   ]
  },
  {
   "cell_type": "markdown",
   "metadata": {},
   "source": [
    "### 1. 为数据标记：男/女"
   ]
  },
  {
   "cell_type": "code",
   "execution_count": 3,
   "metadata": {
    "pycharm": {
     "name": "#%%\n"
    },
    "scrolled": true
   },
   "outputs": [
    {
     "name": "stdout",
     "output_type": "stream",
     "text": [
      "4637 18696 0.1987314104487207\n",
      "59296 200068 0.22862078006199782\n"
     ]
    }
   ],
   "source": [
    "male, female = 0, 0\n",
    "male_total, female_total = 0, 0\n",
    "\n",
    "# 遍历答案，计数\n",
    "answers_labeled = []\n",
    "for i, answer in enumerate(answers):\n",
    "    \n",
    "    # 对单个答案中的\"TA\"计数\n",
    "    male_count = answer.count(\"他\")\n",
    "    female_count = answer.count(\"她\")\n",
    "    \n",
    "    # 增加TA的总数\n",
    "    male_total += male_count\n",
    "    female_total += female_count\n",
    "    \n",
    "    # 增加带TA的回答的总数\n",
    "    if  male_count > female_count:\n",
    "        male += 1\n",
    "    else:\n",
    "        female += 1\n",
    "    \n",
    "    # 为数据打上标记，男为0，女为1\n",
    "    answers_labeled.append([answer, int(male_count < female_count)])\n",
    "        \n",
    "print(male, female, male/(male+female))\n",
    "print(male_total, female_total, male_total/(male_total+female_total))"
   ]
  },
  {
   "cell_type": "markdown",
   "metadata": {},
   "source": [
    "### 2. 调用百度API，对内容进行情感分析"
   ]
  },
  {
   "cell_type": "code",
   "execution_count": null,
   "metadata": {
    "pycharm": {
     "is_executing": true
    }
   },
   "outputs": [
    {
     "name": "stdout",
     "output_type": "stream",
     "text": [
      "0.999995 1\n",
      "0.999855 1\n",
      "0.999181 0\n",
      "0.999472 1\n",
      "0.991788 0\n",
      "0.999992 1\n",
      "0.998083 0\n",
      "0.999581 0\n",
      "0.99401 1\n",
      "0.966849 1\n",
      "0.988343 1\n",
      "0.999921 0\n",
      "0.996428 1\n",
      "0.996699 0\n",
      "0.99926 0\n",
      "0.991598 1\n",
      "0.956613 1\n",
      "0.998797 1\n",
      "0.998011 1\n",
      "0.999771 0\n",
      "0.99952 1\n",
      "0.971047 0\n",
      "0.999886 1\n",
      "0.999974 1\n",
      "0.988913 1\n",
      "0.986465 1\n",
      "0.99007 0\n",
      "0.999718 1\n",
      "0.999938 0\n",
      "0.997017 0\n",
      "0.994897 0\n",
      "0.996841 1\n",
      "0.974761 1\n",
      "0.991397 1\n",
      "0.999976 1\n",
      "0.999436 1\n",
      "0.999698 1\n",
      "0.999636 1\n",
      "0.96314 0\n",
      "0.998583 1\n",
      "0.999996 1\n",
      "0.99979 0\n",
      "0.993715 1\n",
      "0.997079 0\n",
      "0.978055 1\n",
      "0.991217 0\n",
      "0.999937 0\n",
      "0.958184 0\n",
      "0.981572 1\n",
      "0.999329 1\n",
      "0.999991 0\n",
      "0.999611 1\n",
      "0.994186 0\n",
      "0.969023 0\n",
      "0.985629 1\n",
      "0.995664 1\n",
      "0.999648 0\n",
      "0.9979130.957445 1\n",
      " 0\n",
      "0.998426 0\n",
      "0.998547 0\n",
      "0.97238 1\n",
      "0.999869 1\n",
      "0.99983 1\n",
      "0.997164 1\n",
      "0.999994 1\n",
      "0.999722 1\n",
      "0.959826 0\n",
      "0.9999190.998699  0\n",
      "1\n",
      "0.999953 1\n",
      "0.999997 1\n",
      "0.999677 1\n",
      "0.99747 1\n"
     ]
    }
   ],
   "source": [
    "import time\n",
    "import requests\n",
    "import json\n",
    "import pymysql\n",
    "\n",
    "token = \"*********************\" # 请自行注册百度智能云账号获取token【免费】\n",
    "url = f'https://aip.baidubce.com/rpc/2.0/nlp/v1/sentiment_classify?charset=UTF-8&access_token={token}'\n",
    "sleepTime = 1\n",
    "\n",
    "# 该API的QPS限制为2，即每秒只能发送2次请求，这导致获取情感倾向的时间较长（回答数量18000+）。\n",
    "# 因此我们将读取到的内容写入数据库，并为答案编号，便于在中断程序后下次能直接从未请求过的答案开始继续请求。\n",
    "\n",
    "# 【数据库】账号root，密码123，操作的数据库名为zhihu，表名为zhihu\n",
    "# 将读获得的情感倾向以及对应的答案编号写入数据库\n",
    "def write_into_database(i, n, label):\n",
    "    connect = pymysql.connect(host=\"localhost\", user=\"root\", password=\"123\", port=3306, db=\"zhihu\")\n",
    "    cursor = connect.cursor()\n",
    "    cursor.execute(f\"insert into zhihu (i, neg, label) values ({i}, {n}, {label})\")\n",
    "    connect.commit()\n",
    "    cursor.close()\n",
    "    connect.close()\n",
    "\n",
    "# 获取当前已经请求到编号为多少的答案了\n",
    "def get_process():\n",
    "    connect = pymysql.connect(host=\"localhost\", user=\"root\", password=\"123\", port=3306, db=\"zhihu\")\n",
    "    cursor = connect.cursor()\n",
    "    cursor.execute(f\"select max(i) from zhihu\")\n",
    "    result = cursor.fetchall()\n",
    "    connect.commit()\n",
    "    cursor.close()\n",
    "    connect.close()\n",
    "    if result[0][0] == None:\n",
    "        return 0\n",
    "    return result[0][0]\n",
    "\n",
    "# 将回答内容传给百度API，获得情感倾向信息\n",
    "def getRes(answer_labeled):\n",
    "    i, answer, label = answer_labeled\n",
    "    len_answer = len(answer)\n",
    "    if len_answer > 1000:\n",
    "        answer = answer[:999]\n",
    "    if len_answer < 20:\n",
    "        return\n",
    "    time.sleep(0.5)\n",
    "\n",
    "    data = {\n",
    "        'text': answer\n",
    "    }\n",
    "    data = json.dumps(data)\n",
    "    try:\n",
    "        resp = requests.post(url, data=data)\n",
    "        res = json.loads(resp.text)[\"items\"][0]\n",
    "    except:\n",
    "        print(f\"{i} {resp.text}\")\n",
    "        return\n",
    "\n",
    "    p, n, c, s = res[\"positive_prob\"], res[\"negative_prob\"], res[\"confidence\"], res[\"sentiment\"]\n",
    "\n",
    "    # 如果confidence<0.9或者负面指数小于0.8，我们不要该数据。因为\n",
    "    if c < 0.9 or n < 0.8:\n",
    "        return\n",
    "\n",
    "    # 将读取到的内容写入数据库\n",
    "    print(i, n, label)\n",
    "    write_into_database(i, n, label)\n",
    "\n",
    "# 主程序\n",
    "if __name__ == \"__main__\":\n",
    "    current = get_process()\n",
    "    print(f\"从第{current}个开始。\")\n",
    "    for answer_labeled in answers_labeled[current:]:\n",
    "        getRes(answer_labeled)\n",
    "        \n",
    "# 获取数据完成后，将在Ana_Sentiment.ipynb文件中进行数据可视化"
   ]
  }
 ],
 "metadata": {
  "kernelspec": {
   "display_name": "Python 3",
   "language": "python",
   "name": "python3"
  },
  "language_info": {
   "codemirror_mode": {
    "name": "ipython",
    "version": 3
   },
   "file_extension": ".py",
   "mimetype": "text/x-python",
   "name": "python",
   "nbconvert_exporter": "python",
   "pygments_lexer": "ipython3",
   "version": "3.8.1"
  }
 },
 "nbformat": 4,
 "nbformat_minor": 4
}